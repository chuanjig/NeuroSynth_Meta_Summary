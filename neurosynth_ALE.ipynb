{
 "cells": [
  {
   "cell_type": "markdown",
   "metadata": {},
   "source": [
    "Decoding analysis for meta-analysis map from ALE.  \n",
    "Dependencies: Python 3, Neurosynth. \n",
    "Neurosynth dependencies: NumPy/SciPy,pandas,NiBabel,ply,scikit-learn.  \n",
    "2019/04/23 built.  \n",
    "2019/04/24 added decoding of all features.  \n",
    "Chuanji Gao"
   ]
  },
  {
   "cell_type": "code",
   "execution_count": 1,
   "metadata": {},
   "outputs": [],
   "source": [
    "# At anaconda prompt, type: pip install import-ipynb\n",
    "import import_ipynb\n",
    "import os\n",
    "os.chdir(r'F:\\UPDATE\\RESEARCHBLOG_GAO\\dataScience_2_meta_analysis_methods\\Meta_Analysis_fMRI\\Method3_NeuroSynth')\n",
    "import pandas as pd"
   ]
  },
  {
   "cell_type": "code",
   "execution_count": 7,
   "metadata": {},
   "outputs": [],
   "source": [
    "# Core functionality for managing and accessing data\n",
    "from neurosynth import Dataset\n",
    "# Analysis tools for meta-analysis, image decoding, and coactivation analysis\n",
    "from neurosynth.analysis import meta, decode, network\n",
    "#from neurosynth import meta, decode, network"
   ]
  },
  {
   "cell_type": "code",
   "execution_count": 8,
   "metadata": {},
   "outputs": [],
   "source": [
    "dataset = Dataset.load(r'F:\\UPDATE\\RESEARCHBLOG_GAO\\dataScience_2_meta_analysis_methods\\Meta_Analysis_fMRI\\neurosynth\\data\\dataset.pkl')   # Note the capital D in the second Dataset--load() is a class method"
   ]
  },
  {
   "cell_type": "markdown",
   "metadata": {},
   "source": [
    "Inputs: ALE Image (foci_av_emotionSPMfinal_ALE.nii) is an unthresholded image contains the unthresholded ALE values, one computed at every voxel in the brain. The ALE calculations first create a 3D image for each foci group using the mask, the foci and a guassian blur with a FWHM empirically derived from the subject size. These pre-ALE experiment-level images are called Modeled Activation (MA) maps. The MA maps can be calculated by finding the union or the maximum across each focus's Gaussian. Using the maximum limits the effect of an experiment with multiple foci very near one another and is referred to as \"non-additive\" in the preferences. The ALE image is a union of all of the MA maps.  \n",
    "\n",
    "The decoding wil not work unless the input image has the same dimensions as the typicall MNI152 2mm image.  "
   ]
  },
  {
   "cell_type": "code",
   "execution_count": 10,
   "metadata": {},
   "outputs": [],
   "source": [
    "# Decode images: simple try\n",
    "decoder = decode.Decoder(dataset, features=['emotion', 'auditory', 'visual', 'audiovisual'])\n",
    "data = decoder.decode(['foci_av_emotionSPMfinal_ALE_resliced.nii'], save='decoding_results_ALE_simple.txt')"
   ]
  },
  {
   "cell_type": "markdown",
   "metadata": {},
   "source": [
    "Understanding term similarity score in Decoder:  \n",
    "The decoder returns map-wise correlation coefficients between the input and the reverse inference maps.  \n",
    "In other words, it's just pearson correlation between the two vectorized maps, computed over all voxels. I.e., corr(x_1, x_2),where x_1 and x_2 are aligned vectors of voxels values from each of the two maps.  \n",
    "\n",
    "How are voxels with missing values handled?  \n",
    "Attempting to decode maps with relatively few non-zero values (those conservatively corrected for multiple comparisions) will produce biased results (i.e., many coefficients very close to 0). Note that the deliberate introduction of bias is not necessarily a bad thing here, because the laternative is to produce highly variable estimates that will often provide a misleading sense of the robustness of an association. In future, we will provide a user option for handing of 0 values. In general, however, we recommend decoding unthresholded, uncorrected, whole-brain maps whenever possible.  \n",
    "\n",
    "The conclusion needs to be made with caution: \"e.g., there is some evidence that our pattern of activation is more consistent with language and motor processes than other kinds of processes\".  \n",
    "\n",
    "Note that you probably want to pay attention to the absolute strength of the correlations too, as that can give you an informative sense of how \"typically\" you results are. It can be interpreted exactly like any other correlation coefficient. Which is to say, they have a clear statistical meaning (1 is identity, -1 is inversion, 0 is independence). E.g., if the single strongest correlation between your map and any of the reverse inference meta-analyses is only, say .06, the implication is probably a) your analysis is underpowered b) you have a task that is tapping some uncommon combination of cognitive processes. However, the implications for any particular application depend entirely on the context. There is no simple answer to whether a value of say, .2 is large or small.  \n",
    "\n",
    "We can't know whether the association between the map input and the neurosynth meta-analysis map is significant or not.  "
   ]
  },
  {
   "cell_type": "code",
   "execution_count": null,
   "metadata": {},
   "outputs": [],
   "source": [
    "# Decode images: all features, \n",
    "# if we left the features argument unspecified, the decoder would default to using the entire set of 500+ features\n",
    "decoder = decode.Decoder(dataset)\n",
    "data = decoder.decode(['foci_av_emotionSPMfinal_ALE_resliced.nii'], save='decoding_results_ALE_All_Features.txt')"
   ]
  },
  {
   "cell_type": "code",
   "execution_count": 49,
   "metadata": {},
   "outputs": [],
   "source": [
    "data = pd.read_csv('decoding_results_ALE_All_Features.txt', sep=\",\", skiprows=1, header=None)\n",
    "data.columns = [\"Features\", \"r\"]"
   ]
  },
  {
   "cell_type": "code",
   "execution_count": 55,
   "metadata": {},
   "outputs": [
    {
     "data": {
      "text/plain": [
       "3160"
      ]
     },
     "execution_count": 55,
     "metadata": {},
     "output_type": "execute_result"
    }
   ],
   "source": [
    "#How many features in total\n",
    "len(data)"
   ]
  },
  {
   "cell_type": "code",
   "execution_count": 46,
   "metadata": {},
   "outputs": [
    {
     "data": {
      "text/html": [
       "<div>\n",
       "<style scoped>\n",
       "    .dataframe tbody tr th:only-of-type {\n",
       "        vertical-align: middle;\n",
       "    }\n",
       "\n",
       "    .dataframe tbody tr th {\n",
       "        vertical-align: top;\n",
       "    }\n",
       "\n",
       "    .dataframe thead th {\n",
       "        text-align: right;\n",
       "    }\n",
       "</style>\n",
       "<table border=\"1\" class=\"dataframe\">\n",
       "  <thead>\n",
       "    <tr style=\"text-align: right;\">\n",
       "      <th></th>\n",
       "      <th>Features</th>\n",
       "      <th>r</th>\n",
       "    </tr>\n",
       "  </thead>\n",
       "  <tbody>\n",
       "    <tr>\n",
       "      <th>0</th>\n",
       "      <td>001</td>\n",
       "      <td>-0.0481</td>\n",
       "    </tr>\n",
       "    <tr>\n",
       "      <th>1</th>\n",
       "      <td>01</td>\n",
       "      <td>-0.0531</td>\n",
       "    </tr>\n",
       "    <tr>\n",
       "      <th>2</th>\n",
       "      <td>05</td>\n",
       "      <td>-0.0304</td>\n",
       "    </tr>\n",
       "    <tr>\n",
       "      <th>3</th>\n",
       "      <td>05 corrected</td>\n",
       "      <td>0.0071</td>\n",
       "    </tr>\n",
       "    <tr>\n",
       "      <th>4</th>\n",
       "      <td>10</td>\n",
       "      <td>-0.0822</td>\n",
       "    </tr>\n",
       "  </tbody>\n",
       "</table>\n",
       "</div>"
      ],
      "text/plain": [
       "       Features       r\n",
       "0           001 -0.0481\n",
       "1            01 -0.0531\n",
       "2            05 -0.0304\n",
       "3  05 corrected  0.0071\n",
       "4            10 -0.0822"
      ]
     },
     "execution_count": 46,
     "metadata": {},
     "output_type": "execute_result"
    }
   ],
   "source": [
    "#Display head rows\n",
    "data.head()"
   ]
  },
  {
   "cell_type": "code",
   "execution_count": 21,
   "metadata": {},
   "outputs": [
    {
     "data": {
      "text/html": [
       "<div>\n",
       "<style scoped>\n",
       "    .dataframe tbody tr th:only-of-type {\n",
       "        vertical-align: middle;\n",
       "    }\n",
       "\n",
       "    .dataframe tbody tr th {\n",
       "        vertical-align: top;\n",
       "    }\n",
       "\n",
       "    .dataframe thead th {\n",
       "        text-align: right;\n",
       "    }\n",
       "</style>\n",
       "<table border=\"1\" class=\"dataframe\">\n",
       "  <thead>\n",
       "    <tr style=\"text-align: right;\">\n",
       "      <th></th>\n",
       "      <th>Features</th>\n",
       "      <th>r</th>\n",
       "    </tr>\n",
       "  </thead>\n",
       "  <tbody>\n",
       "    <tr>\n",
       "      <th>3155</th>\n",
       "      <td>young adults</td>\n",
       "      <td>-0.0341</td>\n",
       "    </tr>\n",
       "    <tr>\n",
       "      <th>3156</th>\n",
       "      <td>young healthy</td>\n",
       "      <td>-0.0617</td>\n",
       "    </tr>\n",
       "    <tr>\n",
       "      <th>3157</th>\n",
       "      <td>younger</td>\n",
       "      <td>-0.0161</td>\n",
       "    </tr>\n",
       "    <tr>\n",
       "      <th>3158</th>\n",
       "      <td>younger adults</td>\n",
       "      <td>-0.0307</td>\n",
       "    </tr>\n",
       "    <tr>\n",
       "      <th>3159</th>\n",
       "      <td>zone</td>\n",
       "      <td>-0.0378</td>\n",
       "    </tr>\n",
       "  </tbody>\n",
       "</table>\n",
       "</div>"
      ],
      "text/plain": [
       "            Features       r\n",
       "3155    young adults -0.0341\n",
       "3156   young healthy -0.0617\n",
       "3157         younger -0.0161\n",
       "3158  younger adults -0.0307\n",
       "3159            zone -0.0378"
      ]
     },
     "execution_count": 21,
     "metadata": {},
     "output_type": "execute_result"
    }
   ],
   "source": [
    "#Display end rows\n",
    "data.tail()"
   ]
  },
  {
   "cell_type": "code",
   "execution_count": 50,
   "metadata": {},
   "outputs": [],
   "source": [
    "# Sort by correlation values\n",
    "data=data.sort_values(by=['r'],ascending=False);"
   ]
  },
  {
   "cell_type": "code",
   "execution_count": 52,
   "metadata": {},
   "outputs": [],
   "source": [
    "# Add ID column\n",
    "data.insert(0, 'New_ID', range(1, 1 + len(data)));"
   ]
  },
  {
   "cell_type": "code",
   "execution_count": 56,
   "metadata": {},
   "outputs": [
    {
     "data": {
      "text/html": [
       "<div>\n",
       "<style scoped>\n",
       "    .dataframe tbody tr th:only-of-type {\n",
       "        vertical-align: middle;\n",
       "    }\n",
       "\n",
       "    .dataframe tbody tr th {\n",
       "        vertical-align: top;\n",
       "    }\n",
       "\n",
       "    .dataframe thead th {\n",
       "        text-align: right;\n",
       "    }\n",
       "</style>\n",
       "<table border=\"1\" class=\"dataframe\">\n",
       "  <thead>\n",
       "    <tr style=\"text-align: right;\">\n",
       "      <th></th>\n",
       "      <th>New_ID</th>\n",
       "      <th>Features</th>\n",
       "      <th>r</th>\n",
       "    </tr>\n",
       "  </thead>\n",
       "  <tbody>\n",
       "    <tr>\n",
       "      <th>2890</th>\n",
       "      <td>1</td>\n",
       "      <td>temporal sulcus</td>\n",
       "      <td>0.3008</td>\n",
       "    </tr>\n",
       "    <tr>\n",
       "      <th>2773</th>\n",
       "      <td>2</td>\n",
       "      <td>sts</td>\n",
       "      <td>0.2828</td>\n",
       "    </tr>\n",
       "    <tr>\n",
       "      <th>1098</th>\n",
       "      <td>3</td>\n",
       "      <td>facial</td>\n",
       "      <td>0.2720</td>\n",
       "    </tr>\n",
       "    <tr>\n",
       "      <th>2812</th>\n",
       "      <td>4</td>\n",
       "      <td>sulcus sts</td>\n",
       "      <td>0.2540</td>\n",
       "    </tr>\n",
       "    <tr>\n",
       "      <th>2878</th>\n",
       "      <td>5</td>\n",
       "      <td>temporal</td>\n",
       "      <td>0.2520</td>\n",
       "    </tr>\n",
       "    <tr>\n",
       "      <th>1902</th>\n",
       "      <td>6</td>\n",
       "      <td>neutral</td>\n",
       "      <td>0.2503</td>\n",
       "    </tr>\n",
       "    <tr>\n",
       "      <th>170</th>\n",
       "      <td>7</td>\n",
       "      <td>amygdala</td>\n",
       "      <td>0.2375</td>\n",
       "    </tr>\n",
       "    <tr>\n",
       "      <th>2820</th>\n",
       "      <td>8</td>\n",
       "      <td>superior temporal</td>\n",
       "      <td>0.2350</td>\n",
       "    </tr>\n",
       "    <tr>\n",
       "      <th>1069</th>\n",
       "      <td>9</td>\n",
       "      <td>expressions</td>\n",
       "      <td>0.2343</td>\n",
       "    </tr>\n",
       "    <tr>\n",
       "      <th>948</th>\n",
       "      <td>10</td>\n",
       "      <td>emotions</td>\n",
       "      <td>0.2311</td>\n",
       "    </tr>\n",
       "    <tr>\n",
       "      <th>277</th>\n",
       "      <td>11</td>\n",
       "      <td>audiovisual</td>\n",
       "      <td>0.2295</td>\n",
       "    </tr>\n",
       "    <tr>\n",
       "      <th>938</th>\n",
       "      <td>12</td>\n",
       "      <td>emotion</td>\n",
       "      <td>0.2292</td>\n",
       "    </tr>\n",
       "    <tr>\n",
       "      <th>172</th>\n",
       "      <td>13</td>\n",
       "      <td>amygdala hippocampus</td>\n",
       "      <td>0.2277</td>\n",
       "    </tr>\n",
       "    <tr>\n",
       "      <th>940</th>\n",
       "      <td>14</td>\n",
       "      <td>emotional</td>\n",
       "      <td>0.2229</td>\n",
       "    </tr>\n",
       "    <tr>\n",
       "      <th>1099</th>\n",
       "      <td>15</td>\n",
       "      <td>facial expression</td>\n",
       "      <td>0.2217</td>\n",
       "    </tr>\n",
       "    <tr>\n",
       "      <th>1097</th>\n",
       "      <td>16</td>\n",
       "      <td>faces</td>\n",
       "      <td>0.2199</td>\n",
       "    </tr>\n",
       "    <tr>\n",
       "      <th>1093</th>\n",
       "      <td>17</td>\n",
       "      <td>face</td>\n",
       "      <td>0.2194</td>\n",
       "    </tr>\n",
       "    <tr>\n",
       "      <th>1100</th>\n",
       "      <td>18</td>\n",
       "      <td>facial expressions</td>\n",
       "      <td>0.2165</td>\n",
       "    </tr>\n",
       "    <tr>\n",
       "      <th>2300</th>\n",
       "      <td>19</td>\n",
       "      <td>psts</td>\n",
       "      <td>0.2155</td>\n",
       "    </tr>\n",
       "    <tr>\n",
       "      <th>3105</th>\n",
       "      <td>20</td>\n",
       "      <td>voice</td>\n",
       "      <td>0.2123</td>\n",
       "    </tr>\n",
       "  </tbody>\n",
       "</table>\n",
       "</div>"
      ],
      "text/plain": [
       "      New_ID              Features       r\n",
       "2890       1       temporal sulcus  0.3008\n",
       "2773       2                   sts  0.2828\n",
       "1098       3                facial  0.2720\n",
       "2812       4            sulcus sts  0.2540\n",
       "2878       5              temporal  0.2520\n",
       "1902       6               neutral  0.2503\n",
       "170        7              amygdala  0.2375\n",
       "2820       8     superior temporal  0.2350\n",
       "1069       9           expressions  0.2343\n",
       "948       10              emotions  0.2311\n",
       "277       11           audiovisual  0.2295\n",
       "938       12               emotion  0.2292\n",
       "172       13  amygdala hippocampus  0.2277\n",
       "940       14             emotional  0.2229\n",
       "1099      15     facial expression  0.2217\n",
       "1097      16                 faces  0.2199\n",
       "1093      17                  face  0.2194\n",
       "1100      18    facial expressions  0.2165\n",
       "2300      19                  psts  0.2155\n",
       "3105      20                 voice  0.2123"
      ]
     },
     "execution_count": 56,
     "metadata": {},
     "output_type": "execute_result"
    }
   ],
   "source": [
    "# Display final results - 20 first rows\n",
    "data.head(20)"
   ]
  }
 ],
 "metadata": {
  "kernelspec": {
   "display_name": "Python 3",
   "language": "python",
   "name": "python3"
  },
  "language_info": {
   "codemirror_mode": {
    "name": "ipython",
    "version": 3
   },
   "file_extension": ".py",
   "mimetype": "text/x-python",
   "name": "python",
   "nbconvert_exporter": "python",
   "pygments_lexer": "ipython3",
   "version": "3.7.0"
  }
 },
 "nbformat": 4,
 "nbformat_minor": 2
}
