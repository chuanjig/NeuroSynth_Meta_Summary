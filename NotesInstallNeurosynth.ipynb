{
 "cells": [
  {
   "cell_type": "markdown",
   "metadata": {},
   "source": [
    "Step 1: Install neurosynth: open windows command prompt, type \"pip install neurosynth\""
   ]
  },
  {
   "cell_type": "markdown",
   "metadata": {},
   "source": [
    "Step 2: Fork neurosynth on Github. Clone it to local.\n",
    "reference: https://neurosynth.readthedocs.io/en/latest/getting_started.html#installation"
   ]
  },
  {
   "cell_type": "markdown",
   "metadata": {},
   "source": [
    "Step 3: Go to the cloned \"neurosynth\" folder, under the \"data\" folder, run the following two lines of code using\n",
    "Git Bash: \"git submodule init\" \"git submodule update\".\n",
    "Now we can have a current_data.tar.gz file sitting under data."
   ]
  }
 ],
 "metadata": {
  "kernelspec": {
   "display_name": "Python 3",
   "language": "python",
   "name": "python3"
  },
  "language_info": {
   "codemirror_mode": {
    "name": "ipython",
    "version": 3
   },
   "file_extension": ".py",
   "mimetype": "text/x-python",
   "name": "python",
   "nbconvert_exporter": "python",
   "pygments_lexer": "ipython3",
   "version": "3.7.0"
  }
 },
 "nbformat": 4,
 "nbformat_minor": 2
}
